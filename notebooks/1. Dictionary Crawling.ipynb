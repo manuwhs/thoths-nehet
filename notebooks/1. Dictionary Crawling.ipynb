{
 "cells": [
  {
   "cell_type": "markdown",
   "metadata": {},
   "source": [
    "## Scrapying\n",
    "\n",
    "Since I could not find any reliable English dictionary online, I decided to scrap it from the most reliable sources. For this purpose the class XXXX has been created.\n",
    "\n",
    "This class uses the scrapers from the github repository:\n",
    "https://github.com/kiasar/Dictionary_crawler\n",
    "\n",
    "The closest thing I found to an open dictionary is the one from the project Gutemberg but it seems that it is not that clean and consistent. So the efforts of parsing it are way higher than for the scrapped one, provided I do not get blocked by scrapyng."
   ]
  },
  {
   "cell_type": "code",
   "execution_count": 5,
   "metadata": {},
   "outputs": [
    {
     "name": "stdout",
     "output_type": "stream",
     "text": [
      "The autoreload extension is already loaded. To reload it, use:\n",
      "  %reload_ext autoreload\n"
     ]
    }
   ],
   "source": [
    "%load_ext autoreload\n",
    "%autoreload 2\n",
    "\n",
    "import networkx as nx\n",
    "import pandas as pd\n",
    "import numpy as np\n",
    "import matplotlib.pyplot as plt\n",
    "from IPython.display import Image\n",
    "import os\n",
    "import json\n",
    "%matplotlib qt \n",
    "\n",
    "from thothsnehet.dictionary_crawler import DictionaryCrawler\n",
    "\n",
    "from thothsnehet.utils.basic import merge_dictionaries, get_unique_words, get_all_text_from_definitions\n",
    "\n",
    "from traphing.utils import unwrap\n",
    "import shutil"
   ]
  },
  {
   "cell_type": "code",
   "execution_count": 6,
   "metadata": {},
   "outputs": [],
   "source": [
    "storage_path = \"./definitions/\""
   ]
  },
  {
   "cell_type": "markdown",
   "metadata": {},
   "source": [
    "Remove the folder for the examples from the previous execution"
   ]
  },
  {
   "cell_type": "code",
   "execution_count": 52,
   "metadata": {},
   "outputs": [],
   "source": [
    "try:\n",
    "    shutil.rmtree(storage_path)\n",
    "except:\n",
    "    pass"
   ]
  },
  {
   "cell_type": "markdown",
   "metadata": {},
   "source": [
    "# 1. Create instance of the Crawler\n",
    "\n",
    "When we initialize it we indicate the directory where the already downloaded definitions are. Futher definitions will also be downloaded (scrapped) to this directory."
   ]
  },
  {
   "cell_type": "code",
   "execution_count": 53,
   "metadata": {},
   "outputs": [],
   "source": [
    "dictionary_source = \"oxford\""
   ]
  },
  {
   "cell_type": "code",
   "execution_count": 54,
   "metadata": {},
   "outputs": [],
   "source": [
    "dictionary_crawler = DictionaryCrawler(storage_path, dictionary_source)"
   ]
  },
  {
   "cell_type": "code",
   "execution_count": 55,
   "metadata": {
    "scrolled": true
   },
   "outputs": [
    {
     "name": "stdout",
     "output_type": "stream",
     "text": [
      "<DictionaryCrawler>\tobject has children:\n",
      "    <str>\tstorage_path:\t/home/montoya/Desktop/VScode/thoths-nehe\n",
      "    <str>\tdictionary_source:\toxford\n",
      "    <str>\tcrawlers_path:\t/home/montoya/Desktop/VScode/thoths-nehe\n",
      "    <dict>\twords_dict\n",
      "\n",
      "  <dict>\twords_dict has children:\n",
      "\n",
      "\n"
     ]
    }
   ],
   "source": [
    "unwrap(dictionary_crawler)"
   ]
  },
  {
   "cell_type": "markdown",
   "metadata": {},
   "source": [
    "## 1.1 Crawl a list of words\n",
    "\n",
    "The most basic functionality is to download a list of word definitions using a scrapy crawler. The method crawl_definitions() serves this purpose. In its basic functionality, it simply calls the crawler process from the command line, retuns the results of the process and writes the file in jason lines format if successful.\n"
   ]
  },
  {
   "cell_type": "code",
   "execution_count": 56,
   "metadata": {},
   "outputs": [],
   "source": [
    "words = \"Your mom\".split(\" \")\n",
    "filename = \"words.jl\""
   ]
  },
  {
   "cell_type": "code",
   "execution_count": 57,
   "metadata": {},
   "outputs": [],
   "source": [
    "output, error, return_code = dictionary_crawler.crawl_definitions(words, filename)"
   ]
  },
  {
   "cell_type": "code",
   "execution_count": 58,
   "metadata": {},
   "outputs": [
    {
     "data": {
      "text/plain": [
       "\"['https://www.lexico.com/en/definition/Your', 'https://www.lexico.com/en/definition/mom']\\n\""
      ]
     },
     "execution_count": 58,
     "metadata": {},
     "output_type": "execute_result"
    }
   ],
   "source": [
    "output"
   ]
  },
  {
   "cell_type": "code",
   "execution_count": 59,
   "metadata": {},
   "outputs": [
    {
     "data": {
      "text/plain": [
       "'0'"
      ]
     },
     "execution_count": 59,
     "metadata": {},
     "output_type": "execute_result"
    }
   ],
   "source": [
    "return_code"
   ]
  },
  {
   "cell_type": "code",
   "execution_count": 60,
   "metadata": {},
   "outputs": [
    {
     "name": "stdout",
     "output_type": "stream",
     "text": [
      "2020-07-26 11:37:42 [scrapy.utils.log] INFO: Scrapy 2.0.1 started (bot: dictionary_crawler)\n",
      "2020-07-26 11:37:42 [scrapy.utils.log] INFO: Versions: lxml 4.4.2.0, libxml2 2.9.9, cssselect 1.1.0, parsel 1.5.2, w3lib 1.21.0, Twisted 20.3.0, Python 3.7.4 (default, Aug 13 2019, 20:35:49) - [GCC 7.3.0], pyOpenSSL 19.0.0 (OpenSSL 1.1.1c  28 May 2019), cryptography 2.7, Platform Linux-5.3.0-40-generic-x86_64-with-debian-buster-sid\n",
      "2020-07-26 11:37:42 [scrapy.utils.log] DEBUG: Using reactor: twisted.internet.epollreactor.EPollReactor\n",
      "2020-07-26 11:37:42 [scrapy.crawler] INFO: Overridden settings:\n",
      "{'BOT_NAME': 'dictionary_crawler',\n",
      " 'CONCURRENT_REQUESTS': 512,\n",
      " 'FEED_EXPORT_ENCODING': 'utf-8',\n",
      " 'FEED_FORMAT': 'jl',\n",
      " 'FEED_URI': '/home/montoya/Desktop/VScode/thoths-nehet/thothsnehet/scrapers/dictionary_crawler/spiders/./definitions/words.jl',\n",
      " 'NEWSPIDER_MODULE': 'dictionary_crawler.spiders',\n",
      " 'ROBOTSTXT_OBEY': True,\n",
      " 'SPIDER_MODULES': ['dictionary_crawler.spiders']}\n",
      "2020-07-26 11:37:42 [scrapy.extensions.telnet] INFO: Telnet Password: 2a0c1ecf571a06b1\n",
      "2020-07-26 11:37:42 [scrapy.middleware] INFO: Enabled extensions:\n",
      "['scrapy.extensions.corestats.CoreStats',\n",
      " 'scrapy.extensions.telnet.TelnetConsole',\n",
      " 'scrapy.extensions.memusage.MemoryUsage',\n",
      " 'scrapy.extensions.feedexport.FeedExporter',\n",
      " 'scrapy.extensions.logstats.LogStats']\n",
      "2020-07-26 11:37:42 [scrapy.middleware] INFO: Enabled downloader middlewares:\n",
      "['scrapy.downloadermiddlewares.robotstxt.RobotsTxtMiddleware',\n",
      " 'scrapy.downloadermiddlewares.httpauth.HttpAuthMiddleware',\n",
      " 'scrapy.downloadermiddlewares.downloadtimeout.DownloadTimeoutMiddleware',\n",
      " 'scrapy.downloadermiddlewares.defaultheaders.DefaultHeadersMiddleware',\n",
      " 'scrapy.downloadermiddlewares.useragent.UserAgentMiddleware',\n",
      " 'scrapy.downloadermiddlewares.retry.RetryMiddleware',\n",
      " 'scrapy.downloadermiddlewares.redirect.MetaRefreshMiddleware',\n",
      " 'scrapy.downloadermiddlewares.httpcompression.HttpCompressionMiddleware',\n",
      " 'scrapy.downloadermiddlewares.redirect.RedirectMiddleware',\n",
      " 'scrapy.downloadermiddlewares.cookies.CookiesMiddleware',\n",
      " 'scrapy.downloadermiddlewares.httpproxy.HttpProxyMiddleware',\n",
      " 'scrapy.downloadermiddlewares.stats.DownloaderStats']\n",
      "2020-07-26 11:37:42 [scrapy.middleware] INFO: Enabled spider middlewares:\n",
      "['scrapy.spidermiddlewares.httperror.HttpErrorMiddleware',\n",
      " 'scrapy.spidermiddlewares.offsite.OffsiteMiddleware',\n",
      " 'scrapy.spidermiddlewares.referer.RefererMiddleware',\n",
      " 'scrapy.spidermiddlewares.urllength.UrlLengthMiddleware',\n",
      " 'scrapy.spidermiddlewares.depth.DepthMiddleware']\n",
      "2020-07-26 11:37:42 [scrapy.middleware] INFO: Enabled item pipelines:\n",
      "[]\n",
      "2020-07-26 11:37:42 [scrapy.core.engine] INFO: Spider opened\n",
      "2020-07-26 11:37:42 [scrapy.extensions.logstats] INFO: Crawled 0 pages (at 0 pages/min), scraped 0 items (at 0 items/min)\n",
      "2020-07-26 11:37:42 [scrapy.extensions.telnet] INFO: Telnet console listening on 127.0.0.1:6023\n",
      "2020-07-26 11:37:43 [scrapy.core.engine] DEBUG: Crawled (200) <GET https://www.lexico.com/robots.txt> (referer: N\n"
     ]
    }
   ],
   "source": [
    "print(error[:3000])"
   ]
  },
  {
   "cell_type": "markdown",
   "metadata": {},
   "source": [
    "We then can load downlothe scrapped definitions file, which originally has a jason lines format."
   ]
  },
  {
   "cell_type": "code",
   "execution_count": 61,
   "metadata": {
    "scrolled": true
   },
   "outputs": [
    {
     "data": {
      "text/plain": [
       "{'mom': {'noun': [\"One's mother.\"]},\n",
       " 'your': {'possessive determiner': ['Belonging to or associated with the person or people that the speaker is addressing.',\n",
       "   'Belonging to or associated with any person in general.',\n",
       "   'Used to denote someone or something that is familiar or typical of its kind.',\n",
       "   'Used when addressing the holder of certain titles.']}}"
      ]
     },
     "execution_count": 61,
     "metadata": {},
     "output_type": "execute_result"
    }
   ],
   "source": [
    "definitions = dictionary_crawler.read_crawled_words(filename)\n",
    "definitions"
   ]
  },
  {
   "cell_type": "markdown",
   "metadata": {},
   "source": [
    "Under the hood, the method is calling a process using scrapy to download the files. We can access the output by setting the verbose parameter to 1. \n",
    "\n",
    "Also the words parameter can be just a string of words"
   ]
  },
  {
   "cell_type": "code",
   "execution_count": 62,
   "metadata": {
    "scrolled": false
   },
   "outputs": [
    {
     "name": "stdout",
     "output_type": "stream",
     "text": [
      "Processing the words:  ['the', 'house', 'is', 'red']\n",
      "scrapy crawl oxford -o /home/montoya/Desktop/VScode/thoths-nehet/thothsnehet/scrapers/dictionary_crawler/spiders/./definitions/words.jl -a words=the,house,is,red\n"
     ]
    }
   ],
   "source": [
    "process_results = dictionary_crawler.crawl_definitions(\"the house is red\", filename, verbose = 1)"
   ]
  },
  {
   "cell_type": "code",
   "execution_count": 63,
   "metadata": {},
   "outputs": [
    {
     "data": {
      "text/plain": [
       "dict_keys(['mom', 'your', 'the', 'is', 'red', 'house'])"
      ]
     },
     "execution_count": 63,
     "metadata": {},
     "output_type": "execute_result"
    }
   ],
   "source": [
    "definitions = dictionary_crawler.read_crawled_words(filename)\n",
    "definitions.keys()"
   ]
  },
  {
   "cell_type": "markdown",
   "metadata": {},
   "source": [
    "## 1.2 Internal dictionary of words\n",
    "\n",
    "The dictionary_crawler object also has the functionality of loading all the definition files in the storage folder and set them as the internal variable words_dict."
   ]
  },
  {
   "cell_type": "code",
   "execution_count": 64,
   "metadata": {},
   "outputs": [],
   "source": [
    "dictionary_crawler.load_definitions()"
   ]
  },
  {
   "cell_type": "code",
   "execution_count": 65,
   "metadata": {
    "scrolled": true
   },
   "outputs": [
    {
     "data": {
      "text/plain": [
       "dict_keys(['mom', 'your', 'the', 'is', 'red', 'house'])"
      ]
     },
     "execution_count": 65,
     "metadata": {},
     "output_type": "execute_result"
    }
   ],
   "source": [
    "dictionary_crawler.words_dict.keys()"
   ]
  },
  {
   "cell_type": "markdown",
   "metadata": {},
   "source": [
    "The property words contains the list of words in the words_dict. It is computed on spot when accessed."
   ]
  },
  {
   "cell_type": "code",
   "execution_count": 66,
   "metadata": {
    "scrolled": true
   },
   "outputs": [
    {
     "data": {
      "text/plain": [
       "['mom', 'your', 'the', 'is', 'red', 'house']"
      ]
     },
     "execution_count": 66,
     "metadata": {},
     "output_type": "execute_result"
    }
   ],
   "source": [
    "dictionary_crawler.words"
   ]
  },
  {
   "cell_type": "markdown",
   "metadata": {},
   "source": [
    "## 1.3 Advanced crawling options\n",
    "\n",
    "Now that we have a reference of the words we have, we can also start doing cool things. \n",
    "\n",
    "We can just download the words that we do not already have in the dictionary"
   ]
  },
  {
   "cell_type": "code",
   "execution_count": 67,
   "metadata": {},
   "outputs": [
    {
     "name": "stdout",
     "output_type": "stream",
     "text": [
      "Processing the words:  ['blue']\n",
      "scrapy crawl oxford -o /home/montoya/Desktop/VScode/thoths-nehet/thothsnehet/scrapers/dictionary_crawler/spiders/./definitions/words.jl -a words=blue\n"
     ]
    }
   ],
   "source": [
    "process_results = dictionary_crawler.crawl_definitions(\"the house is blue\", filename, only_if_missing = True, verbose = 1)"
   ]
  },
  {
   "cell_type": "markdown",
   "metadata": {},
   "source": [
    "Also add a given file to the crawded:"
   ]
  },
  {
   "cell_type": "code",
   "execution_count": 68,
   "metadata": {},
   "outputs": [],
   "source": [
    "dictionary_crawler.add_crawled_words(filename)"
   ]
  },
  {
   "cell_type": "code",
   "execution_count": 69,
   "metadata": {},
   "outputs": [
    {
     "data": {
      "text/plain": [
       "['mom', 'your', 'the', 'is', 'red', 'house', 'blue']"
      ]
     },
     "execution_count": 69,
     "metadata": {},
     "output_type": "execute_result"
    }
   ],
   "source": [
    "dictionary_crawler.words"
   ]
  },
  {
   "cell_type": "markdown",
   "metadata": {},
   "source": [
    "# 2. Recursive definition crawling\n",
    "\n",
    "Given a initial set of words, we would like to recursively also download the set of words in the defitions if we do not have them until we are complete."
   ]
  },
  {
   "cell_type": "code",
   "execution_count": 37,
   "metadata": {},
   "outputs": [],
   "source": [
    "word = \"table\"\n",
    "recursive_depth = 1"
   ]
  },
  {
   "cell_type": "code",
   "execution_count": 38,
   "metadata": {
    "scrolled": true
   },
   "outputs": [
    {
     "name": "stdout",
     "output_type": "stream",
     "text": [
      "------ Recursion level 1/1-------\n",
      "Source word: table\n",
      "['table']\n",
      "--> 104/107 unknown to unique words in definitions\n",
      "--> 0 words we already know we cannot get the definition to\n",
      "['purposes', 'legs', ')', 'columns', 'typically']\n",
      "['bearing', 'slab', 'providing', 'records', 'key']\n",
      "['writing', 'food', 'seated', 'dummy', 'vertical']\n",
      "['figures', 'faces', 'two', 'for', 'placed']\n",
      "['stone', 'or', 'held', 'board', '.']\n",
      "['especially', 'as', 'furniture', 'consideration', 'place']\n",
      "['discussion', 'top', 'dispute', 'stored', 'formal']\n",
      "['formally', 'at', 'of', 'cornice', 'group']\n",
      "['flat', 'inscription', 'by', 'collection', 'an']\n",
      "['displayed', '(', 'be', 'used', 'cut']\n",
      "['set', 'meeting', 'discussions', 'household', 'a']\n",
      "['with', 'surface', 'restaurant', 'which', 'series']\n",
      "['hand', 'folding', 'in', 'data', 'horizontal']\n",
      "['on', 'such', 'gem', 'to', 'objects']\n",
      "['molding', 'forum', 'piece', 'it', 'defined']\n",
      "['unique', 'each', 'quarter', 'eating', 'backgammon']\n",
      "['more', 'playing', 'can', 'issue', 'memory']\n",
      "['and', 'may', 'games', 'postpone', 'rectangular']\n",
      "['present', 'meal', 'half', 'provided', 'working']\n",
      "['facts', ',', 'systematically', 'that', 'wood']\n",
      "['one', 'settle', 'exposed', 'level']\n"
     ]
    }
   ],
   "source": [
    "all_still_unknown_words = dictionary_crawler.crawl_definitions_recursively(word, recursive_depth)"
   ]
  },
  {
   "cell_type": "code",
   "execution_count": 39,
   "metadata": {},
   "outputs": [
    {
     "data": {
      "text/plain": [
       "2"
      ]
     },
     "execution_count": 39,
     "metadata": {},
     "output_type": "execute_result"
    }
   ],
   "source": [
    "len(all_still_unknown_words)"
   ]
  },
  {
   "cell_type": "code",
   "execution_count": 40,
   "metadata": {
    "scrolled": true
   },
   "outputs": [
    {
     "data": {
      "text/plain": [
       "(['purposes',\n",
       "  'legs',\n",
       "  ')',\n",
       "  'columns',\n",
       "  'typically',\n",
       "  'bearing',\n",
       "  'slab',\n",
       "  'providing',\n",
       "  'records',\n",
       "  'is',\n",
       "  'key',\n",
       "  'writing',\n",
       "  'food',\n",
       "  'seated',\n",
       "  'dummy',\n",
       "  'vertical',\n",
       "  'figures',\n",
       "  'faces',\n",
       "  'two',\n",
       "  'for',\n",
       "  'placed',\n",
       "  'stone',\n",
       "  'or',\n",
       "  'held',\n",
       "  'board',\n",
       "  '.',\n",
       "  'especially',\n",
       "  'as',\n",
       "  'furniture',\n",
       "  'consideration',\n",
       "  'place',\n",
       "  'discussion',\n",
       "  'top',\n",
       "  'dispute',\n",
       "  'stored',\n",
       "  'formal',\n",
       "  'formally',\n",
       "  'at',\n",
       "  'of',\n",
       "  'cornice',\n",
       "  'group',\n",
       "  'flat',\n",
       "  'inscription',\n",
       "  'by',\n",
       "  'collection',\n",
       "  'an',\n",
       "  'displayed',\n",
       "  '(',\n",
       "  'be',\n",
       "  'the',\n",
       "  'used',\n",
       "  'cut',\n",
       "  'set',\n",
       "  'meeting',\n",
       "  'discussions',\n",
       "  'household',\n",
       "  'a',\n",
       "  'with',\n",
       "  'surface',\n",
       "  'restaurant',\n",
       "  'which',\n",
       "  'series',\n",
       "  'hand',\n",
       "  'folding',\n",
       "  'in',\n",
       "  'data',\n",
       "  'horizontal',\n",
       "  'on',\n",
       "  'such',\n",
       "  'gem',\n",
       "  'to',\n",
       "  'forum',\n",
       "  'molding',\n",
       "  'objects',\n",
       "  'piece',\n",
       "  'it',\n",
       "  'defined',\n",
       "  'unique',\n",
       "  'each',\n",
       "  'quarter',\n",
       "  'eating',\n",
       "  'backgammon',\n",
       "  'more',\n",
       "  'playing',\n",
       "  'can',\n",
       "  'issue',\n",
       "  'memory',\n",
       "  'and',\n",
       "  'may',\n",
       "  'games',\n",
       "  'postpone',\n",
       "  'table',\n",
       "  'rectangular',\n",
       "  'present',\n",
       "  'meal',\n",
       "  'half',\n",
       "  'provided',\n",
       "  'working',\n",
       "  'facts',\n",
       "  ',',\n",
       "  'systematically',\n",
       "  'that',\n",
       "  'wood',\n",
       "  'one',\n",
       "  'settle',\n",
       "  'exposed',\n",
       "  'level'],\n",
       " ['purposes',\n",
       "  'legs',\n",
       "  ')',\n",
       "  'columns',\n",
       "  'records',\n",
       "  'figures',\n",
       "  'faces',\n",
       "  'placed',\n",
       "  'objects',\n",
       "  'held',\n",
       "  '.',\n",
       "  'eating',\n",
       "  'playing',\n",
       "  'stored',\n",
       "  'games',\n",
       "  'facts',\n",
       "  ',',\n",
       "  '(',\n",
       "  'discussions'])"
      ]
     },
     "execution_count": 40,
     "metadata": {},
     "output_type": "execute_result"
    }
   ],
   "source": [
    "all_still_unknown_words"
   ]
  },
  {
   "cell_type": "code",
   "execution_count": 41,
   "metadata": {},
   "outputs": [
    {
     "ename": "TypeError",
     "evalue": "unhashable type: 'list'",
     "output_type": "error",
     "traceback": [
      "\u001b[0;31m---------------------------------------------------------------------------\u001b[0m",
      "\u001b[0;31mTypeError\u001b[0m                                 Traceback (most recent call last)",
      "\u001b[0;32m<ipython-input-41-f10fe5690064>\u001b[0m in \u001b[0;36m<module>\u001b[0;34m\u001b[0m\n\u001b[0;32m----> 1\u001b[0;31m \u001b[0mdiff\u001b[0m \u001b[0;34m=\u001b[0m \u001b[0mset\u001b[0m\u001b[0;34m(\u001b[0m\u001b[0mall_still_unknown_words\u001b[0m\u001b[0;34m)\u001b[0m\u001b[0;34m\u001b[0m\u001b[0;34m\u001b[0m\u001b[0m\n\u001b[0m",
      "\u001b[0;31mTypeError\u001b[0m: unhashable type: 'list'"
     ]
    }
   ],
   "source": [
    "diff = set(all_still_unknown_words)"
   ]
  },
  {
   "cell_type": "code",
   "execution_count": null,
   "metadata": {},
   "outputs": [],
   "source": [
    "len(list(diff))"
   ]
  },
  {
   "cell_type": "code",
   "execution_count": null,
   "metadata": {},
   "outputs": [],
   "source": [
    "list(set(all_still_unknown_words).difference(diff))"
   ]
  },
  {
   "cell_type": "markdown",
   "metadata": {},
   "source": [
    "If the words are not in the dictionary after scrapping there are multiple options:\n",
    "- It is just a word that needs steamming. Like legs - leg. We should not steam from the beggining, like for exmaple with programming, but we should try.\n",
    "- It is a symbol or number\n",
    "- It is a noun. \n",
    "\n",
    "How should we handle these cases?"
   ]
  },
  {
   "cell_type": "code",
   "execution_count": null,
   "metadata": {},
   "outputs": [],
   "source": [
    "unknown_words"
   ]
  },
  {
   "cell_type": "code",
   "execution_count": null,
   "metadata": {},
   "outputs": [],
   "source": [
    "unknown_words"
   ]
  },
  {
   "cell_type": "markdown",
   "metadata": {},
   "source": [
    "# 3 Parsing playground\n",
    "\n",
    "The basic functionality of parsing was not perfect so lets try to improve it. In the following we will play with different preprocessing options using a presaved to disk example of the oxford website layout."
   ]
  },
  {
   "cell_type": "code",
   "execution_count": null,
   "metadata": {},
   "outputs": [],
   "source": [
    "from thothsnehet.scrapers.dictionary_crawler.spiders.parsers import oxford_parser\n",
    "from scrapy.http import HtmlResponse\n",
    "import re"
   ]
  },
  {
   "cell_type": "code",
   "execution_count": null,
   "metadata": {},
   "outputs": [],
   "source": [
    "def oxford_parser(response):\n",
    "    definition_dict = {}\n",
    "\n",
    "    # Each type of meaning [noun, verb...] is in a  <section class=\"gramb\">\n",
    "    for grammar_word_type_section in response.xpath(\"//section[@class='gramb']\"):\n",
    "        try:\n",
    "            # The first <span class=\"pos\">noun</span> contains the type of word\n",
    "            part_of_speech = grammar_word_type_section.xpath(\".//span[@class='pos']/text()\").extract()[0]\n",
    "        except:\n",
    "            part_of_speech = False\n",
    "\n",
    "        if part_of_speech:\n",
    "            definition_dict[part_of_speech] = dict()\n",
    "\n",
    "        # For each meaning <div class=\"trg\"> Only ther first layer since if there are subdefinitions also have this label\n",
    "        for meaning_div in grammar_word_type_section.xpath(\"./div[@class='trg']\"):\n",
    "            try:\n",
    "                # The first <span class=\"iteration\">1 contains the type of word\n",
    "                # If empty it can be a sub definition or \n",
    "                meaning_index = meaning_div.xpath(\".//span[@class='iteration']/text()\").extract()[0]\n",
    "                meaning_subindex = meaning_div.xpath(\".//span[@class='iteration']/text()\").extract()[0]\n",
    "                \n",
    "            except:\n",
    "                meaning_index = False\n",
    "            print(meaning_index)\n",
    "            \n",
    "            def_list = meaning_div.xpath(\".//span[@class='ind']\").extract()\n",
    "            print (def_list)\n",
    "            if not def_list:\n",
    "                def_list = meaning_div.xpath(\".//div[@class='empty_sense']//div[@class='crossReference']\").extract()\n",
    "                \n",
    "            \n",
    "            def_list = [re.sub(r'<.*?>', \"\", i).strip() for i in def_list]\n",
    "            def_list = [i for i in def_list if i]\n",
    "\n",
    "            if def_list and part_of_speech and meaning_index:\n",
    "                def_list= [def_list[0]]\n",
    "                if meaning_index in definition_dict[part_of_speech]:\n",
    "                    definition_dict[part_of_speech][meaning_index] += def_list\n",
    "                else:\n",
    "                    definition_dict[part_of_speech][meaning_index] = def_list\n",
    "        \n",
    "    return definition_dict\n"
   ]
  },
  {
   "cell_type": "code",
   "execution_count": 33,
   "metadata": {
    "scrolled": true
   },
   "outputs": [
    {
     "data": {
      "text/plain": [
       "b'<section class=\"gramb\">\\n    <h3 class=\"ps pos\"><sp'"
      ]
     },
     "execution_count": 33,
     "metadata": {},
     "output_type": "execute_result"
    }
   ],
   "source": [
    "example_oxford_file_path = \"../thothsnehet/scrapers/dictionary_crawler/spiders/html_format_oxford.html\"\n",
    "html_doc = open(example_oxford_file_path, \"r\").read().encode('utf-8')  \n",
    "html_doc[:50]"
   ]
  },
  {
   "cell_type": "code",
   "execution_count": 34,
   "metadata": {},
   "outputs": [],
   "source": [
    "response = HtmlResponse(url = \"\", status=200, headers=None, body=html_doc)"
   ]
  },
  {
   "cell_type": "code",
   "execution_count": 35,
   "metadata": {},
   "outputs": [],
   "source": [
    "dictionary = oxford_parser(response)"
   ]
  },
  {
   "cell_type": "code",
   "execution_count": 36,
   "metadata": {
    "scrolled": true
   },
   "outputs": [
    {
     "name": "stdout",
     "output_type": "stream",
     "text": [
      "noun\n"
     ]
    }
   ],
   "source": [
    "for key in dictionary:\n",
    "    print(key)\n",
    "    for key2 in dictionary[key]:\n",
    "        print(key2)\n",
    "        [print(\" \".join(x.replace(\"\\n\", \"\").split())) for x in dictionary[key][key2]]"
   ]
  }
 ],
 "metadata": {
  "kernelspec": {
   "display_name": "Python 3",
   "language": "python",
   "name": "python3"
  },
  "language_info": {
   "codemirror_mode": {
    "name": "ipython",
    "version": 3
   },
   "file_extension": ".py",
   "mimetype": "text/x-python",
   "name": "python",
   "nbconvert_exporter": "python",
   "pygments_lexer": "ipython3",
   "version": "3.7.4"
  }
 },
 "nbformat": 4,
 "nbformat_minor": 2
}
