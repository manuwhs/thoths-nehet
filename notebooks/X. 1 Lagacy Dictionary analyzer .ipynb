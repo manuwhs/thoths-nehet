{
 "cells": [
  {
   "cell_type": "markdown",
   "metadata": {},
   "source": [
    "## Dictionary class"
   ]
  },
  {
   "cell_type": "code",
   "execution_count": 6,
   "metadata": {},
   "outputs": [
    {
     "name": "stdout",
     "output_type": "stream",
     "text": [
      "The autoreload extension is already loaded. To reload it, use:\n",
      "  %reload_ext autoreload\n"
     ]
    }
   ],
   "source": [
    "import networkx as nx\n",
    "import pandas as pd\n",
    "import numpy as np\n",
    "import matplotlib.pyplot as plt\n",
    "from IPython.display import Image\n",
    "import os\n",
    "import json\n",
    "%matplotlib qt \n",
    "\n",
    "from thothsnehet.dictionary_analyzer import DictionaryAnalyzer\n",
    "\n",
    "%load_ext autoreload\n",
    "%autoreload 2"
   ]
  },
  {
   "cell_type": "code",
   "execution_count": 9,
   "metadata": {},
   "outputs": [],
   "source": [
    "dictionary_analyzer = DictionaryAnalyzer()\n",
    "dictionary_analyzer.add_selected_words()\n",
    "G = dictionary_analyzer.G"
   ]
  },
  {
   "cell_type": "code",
   "execution_count": 10,
   "metadata": {},
   "outputs": [
    {
     "ename": "AttributeError",
     "evalue": "'DictionaryAnalyzer' object has no attribute 'valid_words'",
     "output_type": "error",
     "traceback": [
      "\u001b[0;31m---------------------------------------------------------------------------\u001b[0m",
      "\u001b[0;31mAttributeError\u001b[0m                            Traceback (most recent call last)",
      "\u001b[0;32m<ipython-input-10-5f0337f85e3d>\u001b[0m in \u001b[0;36m<module>\u001b[0;34m\u001b[0m\n\u001b[0;32m----> 1\u001b[0;31m \u001b[0mdictionary_analyzer\u001b[0m\u001b[0;34m.\u001b[0m\u001b[0mvalid_words\u001b[0m\u001b[0;34m\u001b[0m\u001b[0;34m\u001b[0m\u001b[0m\n\u001b[0m",
      "\u001b[0;31mAttributeError\u001b[0m: 'DictionaryAnalyzer' object has no attribute 'valid_words'"
     ]
    }
   ],
   "source": [
    "dictionary_analyzer.valid_words"
   ]
  },
  {
   "cell_type": "code",
   "execution_count": 11,
   "metadata": {},
   "outputs": [
    {
     "data": {
      "image/png": "[encoded data removed]",
      "text/plain": [
       "<IPython.core.display.Image object>"
      ]
     },
     "execution_count": 11,
     "metadata": {},
     "output_type": "execute_result"
    }
   ],
   "source": [
    "folder_images = \"./\"\n",
    "image_name = \"cycle_graph.png\"; img_path = folder_images + image_name\n",
    "size_inches = [7, 3]; \n",
    "plt.figure()\n",
    "axes = plt.subplot2grid((1,1),(0,0))\n",
    "\n",
    "nx.draw(G, with_labels = True, node_size = 1000, node_color = \"w\")\n",
    "#edge_labels=nx.draw_networkx_edge_labels(G,pos=nx.spring_layout(G))\n",
    "\n",
    "plt.savefig(img_path, dpi = 100, size_inches = size_inches)\n",
    "plt.close()\n",
    "Image(img_path)"
   ]
  },
  {
   "cell_type": "code",
   "execution_count": 23,
   "metadata": {},
   "outputs": [
    {
     "data": {
      "text/plain": [
       "['caca']"
      ]
     },
     "execution_count": 23,
     "metadata": {},
     "output_type": "execute_result"
    }
   ],
   "source": [
    "list(G.predecessors(\"the\"))\n",
    "# list(G.successors(\"caca\"))"
   ]
  },
  {
   "cell_type": "code",
   "execution_count": 3,
   "metadata": {},
   "outputs": [],
   "source": [
    "from thothsnehet.dictionary_crawlers import DictionaryCrawler\n",
    "from thothsnehet.subprocess import call_subprocess"
   ]
  },
  {
   "cell_type": "code",
   "execution_count": 4,
   "metadata": {},
   "outputs": [
    {
     "name": "stdout",
     "output_type": "stream",
     "text": [
      "/home/montoya/Desktop/VScode/thoths-nehet/thothsnehet/dictionary_crawler/dictionary_crawler/spiders/\n"
     ]
    }
   ],
   "source": [
    "dictionary_crawler = DictionaryCrawler()"
   ]
  },
  {
   "cell_type": "code",
   "execution_count": 6,
   "metadata": {},
   "outputs": [
    {
     "name": "stderr",
     "output_type": "stream",
     "text": [
      "2020-04-07 16:15:22 [scrapy.utils.log] INFO: Scrapy 2.0.1 started (bot: scrapybot)\n",
      "2020-04-07 16:15:22 [scrapy.utils.log] INFO: Versions: lxml 4.4.2.0, libxml2 2.9.9, cssselect 1.1.0, parsel 1.5.2, w3lib 1.21.0, Twisted 20.3.0, Python 3.7.4 (default, Aug 13 2019, 20:35:49) - [GCC 7.3.0], pyOpenSSL 19.0.0 (OpenSSL 1.1.1c  28 May 2019), cryptography 2.7, Platform Linux-5.3.0-40-generic-x86_64-with-debian-buster-sid\n",
      "2020-04-07 16:15:22 [scrapy.utils.log] DEBUG: Using reactor: twisted.internet.epollreactor.EPollReactor\n",
      "2020-04-07 16:15:22 [scrapy.crawler] INFO: Overridden settings:\n",
      "{}\n",
      "2020-04-07 16:15:22 [scrapy.extensions.telnet] INFO: Telnet Password: c518ba0658a4330a\n",
      "2020-04-07 16:15:22 [scrapy.middleware] INFO: Enabled extensions:\n",
      "['scrapy.extensions.corestats.CoreStats',\n",
      " 'scrapy.extensions.telnet.TelnetConsole',\n",
      " 'scrapy.extensions.memusage.MemoryUsage',\n",
      " 'scrapy.extensions.logstats.LogStats']\n",
      "2020-04-07 16:15:22 [scrapy.middleware] INFO: Enabled downloader middlewares:\n",
      "['scrapy.downloadermiddlewares.httpauth.HttpAuthMiddleware',\n",
      " 'scrapy.downloadermiddlewares.downloadtimeout.DownloadTimeoutMiddleware',\n",
      " 'scrapy.downloadermiddlewares.defaultheaders.DefaultHeadersMiddleware',\n",
      " 'scrapy.downloadermiddlewares.useragent.UserAgentMiddleware',\n",
      " 'scrapy.downloadermiddlewares.retry.RetryMiddleware',\n",
      " 'scrapy.downloadermiddlewares.redirect.MetaRefreshMiddleware',\n",
      " 'scrapy.downloadermiddlewares.httpcompression.HttpCompressionMiddleware',\n",
      " 'scrapy.downloadermiddlewares.redirect.RedirectMiddleware',\n",
      " 'scrapy.downloadermiddlewares.cookies.CookiesMiddleware',\n",
      " 'scrapy.downloadermiddlewares.httpproxy.HttpProxyMiddleware',\n",
      " 'scrapy.downloadermiddlewares.stats.DownloaderStats']\n",
      "2020-04-07 16:15:22 [scrapy.middleware] INFO: Enabled spider middlewares:\n",
      "['scrapy.spidermiddlewares.httperror.HttpErrorMiddleware',\n",
      " 'scrapy.spidermiddlewares.offsite.OffsiteMiddleware',\n",
      " 'scrapy.spidermiddlewares.referer.RefererMiddleware',\n",
      " 'scrapy.spidermiddlewares.urllength.UrlLengthMiddleware',\n",
      " 'scrapy.spidermiddlewares.depth.DepthMiddleware']\n",
      "2020-04-07 16:15:22 [scrapy.middleware] INFO: Enabled item pipelines:\n",
      "[]\n",
      "2020-04-07 16:15:22 [scrapy.core.engine] INFO: Spider opened\n",
      "2020-04-07 16:15:22 [scrapy.extensions.logstats] INFO: Crawled 0 pages (at 0 pages/min), scraped 0 items (at 0 items/min)\n",
      "2020-04-07 16:15:22 [scrapy.extensions.telnet] INFO: Telnet console listening on 127.0.0.1:6023\n",
      "2020-04-07 16:15:23 [scrapy.downloadermiddlewares.redirect] DEBUG: Redirecting (301) to <GET https://www.lexico.com/en/definition/you> from <GET https://www.lexico.com/en/definition/You>\n",
      "2020-04-07 16:15:23 [scrapy.core.engine] DEBUG: Crawled (200) <GET https://www.lexico.com/en/definition/are> (referer: None)\n",
      "2020-04-07 16:15:23 [scrapy.core.scraper] DEBUG: Scraped from <200 https://www.lexico.com/en/definition/are>\n",
      "{'are': {'verb': ['second person singular present and first, second, third person plural present of be'], 'noun': ['A metric unit of measure, equal to 100 square meters (about 119.6 square yards).']}}\n",
      "2020-04-07 16:15:24 [scrapy.core.engine] DEBUG: Crawled (200) <GET https://www.lexico.com/en/definition/you> (referer: None)\n",
      "2020-04-07 16:15:24 [scrapy.core.scraper] DEBUG: Scraped from <200 https://www.lexico.com/en/definition/you>\n",
      "{'you': {'pronoun': ['Used to refer to the person or people that the speaker is addressing.', 'Used to refer to the person being addressed together with other people regarded in the same class.', 'Used in exclamations to address one or more people.', 'Used to refer to any person in general.']}}\n",
      "2020-04-07 16:15:24 [scrapy.core.engine] INFO: Closing spider (finished)\n",
      "2020-04-07 16:15:24 [scrapy.statscollectors] INFO: Dumping Scrapy stats:\n",
      "{'downloader/request_bytes': 1312,\n",
      " 'downloader/request_count': 3,\n",
      " 'downloader/request_method_count/GET': 3,\n",
      " 'downloader/response_bytes': 46108,\n",
      " 'downloader/response_count': 3,\n",
      " 'downloader/response_status_count/200': 2,\n",
      " 'downloader/response_status_count/301': 1,\n",
      " 'elapsed_time_seconds': 1.607534,\n",
      " 'finish_reason': 'finished',\n",
      " 'finish_time': datetime.datetime(2020, 4, 7, 14, 15, 24, 288313),\n",
      " 'item_scraped_count': 2,\n",
      " 'log_count/DEBUG': 5,\n",
      " 'log_count/INFO': 10,\n",
      " 'memusage/max': 176377856,\n",
      " 'memusage/startup': 176377856,\n",
      " 'response_received_count': 2,\n",
      " 'scheduler/dequeued': 3,\n",
      " 'scheduler/dequeued/memory': 3,\n",
      " 'scheduler/enqueued': 3,\n",
      " 'scheduler/enqueued/memory': 3,\n",
      " 'start_time': datetime.datetime(2020, 4, 7, 14, 15, 22, 680779)}\n",
      "2020-04-07 16:15:24 [scrapy.core.engine] INFO: Spider closed (finished)\n"
     ]
    }
   ],
   "source": [
    "import scrapy\n",
    "from thothsnehet.dictionary_crawler.dictionary_crawler.spiders import OxfordCrawler\n",
    "from scrapy.crawler import CrawlerProcess\n",
    "\n",
    "process = CrawlerProcess()\n",
    "\n",
    "words = [\"You\", \"are\"]\n",
    "start_urls = [\"https://www.lexico.com/en/definition/\" + word for word in words]\n",
    "process.crawl(OxfordCrawler, start_urls=start_urls)\n",
    "process.start()"
   ]
  },
  {
   "cell_type": "code",
   "execution_count": null,
   "metadata": {},
   "outputs": [],
   "source": [
    "dictionary_crawler.get_definitions([\"Hello\"])"
   ]
  },
  {
   "cell_type": "code",
   "execution_count": null,
   "metadata": {},
   "outputs": [],
   "source": [
    "cwd = os.getcwd()\n",
    "os.chdir(dictionary_crawler.crawlers_path)\n",
    "call_subprocess(cmd = f\"scrapy crawl oxford -o oxford.jl\")\n",
    "os.chdir(cwd)\n",
    "os.getcwd()"
   ]
  },
  {
   "cell_type": "code",
   "execution_count": null,
   "metadata": {},
   "outputs": [],
   "source": []
  },
  {
   "cell_type": "code",
   "execution_count": null,
   "metadata": {},
   "outputs": [],
   "source": [
    "file_path = dictionary_crawler.crawlers_path + \"oxford.jl\"\n",
    "with open(file_path) as f:\n",
    "    for line in f:\n",
    "        j_content = json.loads(line)\n",
    "        print (j_content)"
   ]
  },
  {
   "cell_type": "code",
   "execution_count": null,
   "metadata": {},
   "outputs": [],
   "source": []
  }
 ],
 "metadata": {
  "kernelspec": {
   "display_name": "Python 3",
   "language": "python",
   "name": "python3"
  },
  "language_info": {
   "codemirror_mode": {
    "name": "ipython",
    "version": 3
   },
   "file_extension": ".py",
   "mimetype": "text/x-python",
   "name": "python",
   "nbconvert_exporter": "python",
   "pygments_lexer": "ipython3",
   "version": "3.7.4"
  }
 },
 "nbformat": 4,
 "nbformat_minor": 2
}
