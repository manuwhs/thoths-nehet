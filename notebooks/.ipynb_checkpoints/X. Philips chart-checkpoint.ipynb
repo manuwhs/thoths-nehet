{
 "cells": [
  {
   "cell_type": "markdown",
   "metadata": {},
   "source": [
    "## Scrapying\n",
    "Philip is a piece of shit\n"
   ]
  },
  {
   "cell_type": "code",
   "execution_count": 1,
   "metadata": {},
   "outputs": [
    {
     "data": {
      "text/html": [
       "<style>.container { width:100% !important; }</style>"
      ],
      "text/plain": [
       "<IPython.core.display.HTML object>"
      ]
     },
     "metadata": {},
     "output_type": "display_data"
    }
   ],
   "source": [
    "%load_ext autoreload\n",
    "%autoreload 2\n",
    "from IPython.core.display import display, HTML\n",
    "display(HTML(\"<style>.container { width:100% !important; }</style>\"))\n",
    "import pandas as pd\n",
    "import numpy as np\n",
    "import matplotlib.pyplot as plt\n",
    "from IPython.display import Image\n",
    "import os\n",
    "\n",
    "%matplotlib qt "
   ]
  },
  {
   "cell_type": "code",
   "execution_count": 2,
   "metadata": {},
   "outputs": [],
   "source": [
    "storage_path = \"./Philips data/\" \n",
    "measurement_files = [\"Real data heat pump 1.csv\", \"Real data heat pump 2.csv\"]\n",
    "model_files = [\"Model data heat pump 1.TXT\", \"Model data heat pump 2.TXT\"]\n",
    "pipe_names = [\"HPC\", \"HPX\"]"
   ]
  },
  {
   "cell_type": "markdown",
   "metadata": {},
   "source": [
    "# Loading the measurements data"
   ]
  },
  {
   "cell_type": "code",
   "execution_count": 3,
   "metadata": {},
   "outputs": [],
   "source": [
    "df_pipes_measures = []\n",
    "for measurement_file in measurement_files:\n",
    "    df = pd.read_csv(storage_path + measurement_file).set_index(\"Test\")\n",
    "    df = df.applymap(lambda x: float(str(x).replace(\",\",\".\")))\n",
    "    df[\"dP_sink\"]*= 100\n",
    "    df[\"Dp_eva\"]*= 100\n",
    "    df[\"T_con\"] -= 273.15\n",
    "    df[\"T_eva\"] -= 273.15\n",
    "    df_pipes_measures.append(df)"
   ]
  },
  {
   "cell_type": "code",
   "execution_count": 4,
   "metadata": {},
   "outputs": [
    {
     "data": {
      "text/html": [
       "<div>\n",
       "<style scoped>\n",
       "    .dataframe tbody tr th:only-of-type {\n",
       "        vertical-align: middle;\n",
       "    }\n",
       "\n",
       "    .dataframe tbody tr th {\n",
       "        vertical-align: top;\n",
       "    }\n",
       "\n",
       "    .dataframe thead th {\n",
       "        text-align: right;\n",
       "    }\n",
       "</style>\n",
       "<table border=\"1\" class=\"dataframe\">\n",
       "  <thead>\n",
       "    <tr style=\"text-align: right;\">\n",
       "      <th></th>\n",
       "      <th>p_eva</th>\n",
       "      <th>T_eva</th>\n",
       "      <th>p_con</th>\n",
       "      <th>T_con</th>\n",
       "      <th>W_dot_tot</th>\n",
       "      <th>Q_dot_cool</th>\n",
       "      <th>Dp_eva</th>\n",
       "      <th>V_dot_dh</th>\n",
       "      <th>Q_dot_heat</th>\n",
       "      <th>dP_sink</th>\n",
       "    </tr>\n",
       "    <tr>\n",
       "      <th>Test</th>\n",
       "      <th></th>\n",
       "      <th></th>\n",
       "      <th></th>\n",
       "      <th></th>\n",
       "      <th></th>\n",
       "      <th></th>\n",
       "      <th></th>\n",
       "      <th></th>\n",
       "      <th></th>\n",
       "      <th></th>\n",
       "    </tr>\n",
       "  </thead>\n",
       "  <tbody>\n",
       "    <tr>\n",
       "      <th>268388-1</th>\n",
       "      <td>4.570</td>\n",
       "      <td>1.615</td>\n",
       "      <td>29.929</td>\n",
       "      <td>65.607</td>\n",
       "      <td>388.831</td>\n",
       "      <td>1147.225</td>\n",
       "      <td>28.3</td>\n",
       "      <td>91.402</td>\n",
       "      <td>1543.809</td>\n",
       "      <td>85.5</td>\n",
       "    </tr>\n",
       "    <tr>\n",
       "      <th>268388-515648-Kondition 2</th>\n",
       "      <td>4.313</td>\n",
       "      <td>0.073</td>\n",
       "      <td>30.126</td>\n",
       "      <td>65.885</td>\n",
       "      <td>403.069</td>\n",
       "      <td>1127.843</td>\n",
       "      <td>29.4</td>\n",
       "      <td>88.698</td>\n",
       "      <td>1498.074</td>\n",
       "      <td>83.7</td>\n",
       "    </tr>\n",
       "    <tr>\n",
       "      <th>268388-1_Kund Test - Test rapport</th>\n",
       "      <td>4.313</td>\n",
       "      <td>0.070</td>\n",
       "      <td>30.420</td>\n",
       "      <td>66.298</td>\n",
       "      <td>396.185</td>\n",
       "      <td>1172.666</td>\n",
       "      <td>28.5</td>\n",
       "      <td>89.285</td>\n",
       "      <td>1579.456</td>\n",
       "      <td>85.8</td>\n",
       "    </tr>\n",
       "    <tr>\n",
       "      <th>268388-5-PRETEST - Test rapport</th>\n",
       "      <td>4.949</td>\n",
       "      <td>3.812</td>\n",
       "      <td>27.464</td>\n",
       "      <td>62.000</td>\n",
       "      <td>389.616</td>\n",
       "      <td>1259.578</td>\n",
       "      <td>34.5</td>\n",
       "      <td>145.549</td>\n",
       "      <td>1661.382</td>\n",
       "      <td>229.4</td>\n",
       "    </tr>\n",
       "  </tbody>\n",
       "</table>\n",
       "</div>"
      ],
      "text/plain": [
       "                                   p_eva  T_eva   p_con   T_con  W_dot_tot  \\\n",
       "Test                                                                         \n",
       "268388-1                           4.570  1.615  29.929  65.607    388.831   \n",
       "268388-515648-Kondition 2          4.313  0.073  30.126  65.885    403.069   \n",
       "268388-1_Kund Test - Test rapport  4.313  0.070  30.420  66.298    396.185   \n",
       "268388-5-PRETEST - Test rapport    4.949  3.812  27.464  62.000    389.616   \n",
       "\n",
       "                                   Q_dot_cool  Dp_eva  V_dot_dh  Q_dot_heat  \\\n",
       "Test                                                                          \n",
       "268388-1                             1147.225    28.3    91.402    1543.809   \n",
       "268388-515648-Kondition 2            1127.843    29.4    88.698    1498.074   \n",
       "268388-1_Kund Test - Test rapport    1172.666    28.5    89.285    1579.456   \n",
       "268388-5-PRETEST - Test rapport      1259.578    34.5   145.549    1661.382   \n",
       "\n",
       "                                   dP_sink  \n",
       "Test                                        \n",
       "268388-1                              85.5  \n",
       "268388-515648-Kondition 2             83.7  \n",
       "268388-1_Kund Test - Test rapport     85.8  \n",
       "268388-5-PRETEST - Test rapport      229.4  "
      ]
     },
     "execution_count": 4,
     "metadata": {},
     "output_type": "execute_result"
    }
   ],
   "source": [
    "df_pipes_measures[0]"
   ]
  },
  {
   "cell_type": "code",
   "execution_count": 5,
   "metadata": {},
   "outputs": [
    {
     "data": {
      "text/html": [
       "<div>\n",
       "<style scoped>\n",
       "    .dataframe tbody tr th:only-of-type {\n",
       "        vertical-align: middle;\n",
       "    }\n",
       "\n",
       "    .dataframe tbody tr th {\n",
       "        vertical-align: top;\n",
       "    }\n",
       "\n",
       "    .dataframe thead th {\n",
       "        text-align: right;\n",
       "    }\n",
       "</style>\n",
       "<table border=\"1\" class=\"dataframe\">\n",
       "  <thead>\n",
       "    <tr style=\"text-align: right;\">\n",
       "      <th></th>\n",
       "      <th>p_eva</th>\n",
       "      <th>T_eva</th>\n",
       "      <th>p_con</th>\n",
       "      <th>T_con</th>\n",
       "      <th>W_dot_tot</th>\n",
       "      <th>Q_dot_cool</th>\n",
       "      <th>Dp_eva</th>\n",
       "      <th>V_dot_dh</th>\n",
       "      <th>Q_dot_heat</th>\n",
       "      <th>dP_sink</th>\n",
       "    </tr>\n",
       "    <tr>\n",
       "      <th>Test</th>\n",
       "      <th></th>\n",
       "      <th></th>\n",
       "      <th></th>\n",
       "      <th></th>\n",
       "      <th></th>\n",
       "      <th></th>\n",
       "      <th></th>\n",
       "      <th></th>\n",
       "      <th></th>\n",
       "      <th></th>\n",
       "    </tr>\n",
       "  </thead>\n",
       "  <tbody>\n",
       "    <tr>\n",
       "      <th>268388-4_1</th>\n",
       "      <td>5.222</td>\n",
       "      <td>-267.845</td>\n",
       "      <td>41.915</td>\n",
       "      <td>-192.650</td>\n",
       "      <td>482.028</td>\n",
       "      <td>1199.071</td>\n",
       "      <td>35.7</td>\n",
       "      <td>94.367</td>\n",
       "      <td>1710.100</td>\n",
       "      <td>96.4</td>\n",
       "    </tr>\n",
       "    <tr>\n",
       "      <th>268388-4_2</th>\n",
       "      <td>5.096</td>\n",
       "      <td>-268.524</td>\n",
       "      <td>42.250</td>\n",
       "      <td>-192.250</td>\n",
       "      <td>496.228</td>\n",
       "      <td>1220.707</td>\n",
       "      <td>36.0</td>\n",
       "      <td>95.162</td>\n",
       "      <td>1736.511</td>\n",
       "      <td>97.5</td>\n",
       "    </tr>\n",
       "    <tr>\n",
       "      <th>268388_PreCustomer - Test rapport</th>\n",
       "      <td>5.252</td>\n",
       "      <td>-267.687</td>\n",
       "      <td>40.129</td>\n",
       "      <td>-194.635</td>\n",
       "      <td>432.298</td>\n",
       "      <td>1115.702</td>\n",
       "      <td>28.0</td>\n",
       "      <td>96.399</td>\n",
       "      <td>1508.960</td>\n",
       "      <td>99.0</td>\n",
       "    </tr>\n",
       "    <tr>\n",
       "      <th>268388_PreCustomer1-TEST 2 - Test rapport</th>\n",
       "      <td>5.045</td>\n",
       "      <td>-268.803</td>\n",
       "      <td>41.408</td>\n",
       "      <td>-193.196</td>\n",
       "      <td>443.485</td>\n",
       "      <td>1091.932</td>\n",
       "      <td>27.3</td>\n",
       "      <td>85.273</td>\n",
       "      <td>1577.495</td>\n",
       "      <td>75.3</td>\n",
       "    </tr>\n",
       "    <tr>\n",
       "      <th>268388_PreCustomer1-TEST 3 - Test rapport</th>\n",
       "      <td>4.885</td>\n",
       "      <td>-269.697</td>\n",
       "      <td>42.100</td>\n",
       "      <td>-192.450</td>\n",
       "      <td>501.805</td>\n",
       "      <td>1199.380</td>\n",
       "      <td>26.0</td>\n",
       "      <td>90.222</td>\n",
       "      <td>1733.219</td>\n",
       "      <td>85.1</td>\n",
       "    </tr>\n",
       "    <tr>\n",
       "      <th>268388-6-HPX Kondition 4 - Test rapport</th>\n",
       "      <td>4.934</td>\n",
       "      <td>-269.420</td>\n",
       "      <td>42.078</td>\n",
       "      <td>-192.450</td>\n",
       "      <td>479.071</td>\n",
       "      <td>1200.948</td>\n",
       "      <td>33.3</td>\n",
       "      <td>92.421</td>\n",
       "      <td>1687.933</td>\n",
       "      <td>89.6</td>\n",
       "    </tr>\n",
       "  </tbody>\n",
       "</table>\n",
       "</div>"
      ],
      "text/plain": [
       "                                           p_eva    T_eva   p_con    T_con  \\\n",
       "Test                                                                         \n",
       "268388-4_1                                 5.222 -267.845  41.915 -192.650   \n",
       "268388-4_2                                 5.096 -268.524  42.250 -192.250   \n",
       "268388_PreCustomer - Test rapport          5.252 -267.687  40.129 -194.635   \n",
       "268388_PreCustomer1-TEST 2 - Test rapport  5.045 -268.803  41.408 -193.196   \n",
       "268388_PreCustomer1-TEST 3 - Test rapport  4.885 -269.697  42.100 -192.450   \n",
       "268388-6-HPX Kondition 4 - Test rapport    4.934 -269.420  42.078 -192.450   \n",
       "\n",
       "                                           W_dot_tot  Q_dot_cool  Dp_eva  \\\n",
       "Test                                                                       \n",
       "268388-4_1                                   482.028    1199.071    35.7   \n",
       "268388-4_2                                   496.228    1220.707    36.0   \n",
       "268388_PreCustomer - Test rapport            432.298    1115.702    28.0   \n",
       "268388_PreCustomer1-TEST 2 - Test rapport    443.485    1091.932    27.3   \n",
       "268388_PreCustomer1-TEST 3 - Test rapport    501.805    1199.380    26.0   \n",
       "268388-6-HPX Kondition 4 - Test rapport      479.071    1200.948    33.3   \n",
       "\n",
       "                                           V_dot_dh  Q_dot_heat  dP_sink  \n",
       "Test                                                                      \n",
       "268388-4_1                                   94.367    1710.100     96.4  \n",
       "268388-4_2                                   95.162    1736.511     97.5  \n",
       "268388_PreCustomer - Test rapport            96.399    1508.960     99.0  \n",
       "268388_PreCustomer1-TEST 2 - Test rapport    85.273    1577.495     75.3  \n",
       "268388_PreCustomer1-TEST 3 - Test rapport    90.222    1733.219     85.1  \n",
       "268388-6-HPX Kondition 4 - Test rapport      92.421    1687.933     89.6  "
      ]
     },
     "execution_count": 5,
     "metadata": {},
     "output_type": "execute_result"
    }
   ],
   "source": [
    "df_pipes_measures[1]"
   ]
  },
  {
   "cell_type": "markdown",
   "metadata": {},
   "source": [
    "# Loading the model data"
   ]
  },
  {
   "cell_type": "code",
   "execution_count": 6,
   "metadata": {},
   "outputs": [],
   "source": [
    "df_pipes_models = []\n",
    "\n",
    "for i in range(len(model_files)):\n",
    "    model_file = model_files[i]\n",
    "    df = pd.read_csv(storage_path + model_file, sep = \"\t\")\n",
    "    df.columns = [x.replace(\"'\", \"\") for x in df.columns]\n",
    "    df.rename(columns = {\"DELTAp_eva\": \"Dp_eva\", \"DELTAp_sink\":\"dP_sink\"}, inplace = True)\n",
    "    df.index = df_pipes_measures[i].index\n",
    "    df = df.applymap(lambda x: float(str(x).replace(\",\",\".\")))\n",
    "    if i == 1:\n",
    "        df[\"dP_sink\"]*= 100\n",
    "        df[\"Dp_eva\"]*= 100\n",
    "    df_pipes_models.append(df)"
   ]
  },
  {
   "cell_type": "code",
   "execution_count": 7,
   "metadata": {},
   "outputs": [
    {
     "data": {
      "text/html": [
       "<div>\n",
       "<style scoped>\n",
       "    .dataframe tbody tr th:only-of-type {\n",
       "        vertical-align: middle;\n",
       "    }\n",
       "\n",
       "    .dataframe tbody tr th {\n",
       "        vertical-align: top;\n",
       "    }\n",
       "\n",
       "    .dataframe thead th {\n",
       "        text-align: right;\n",
       "    }\n",
       "</style>\n",
       "<table border=\"1\" class=\"dataframe\">\n",
       "  <thead>\n",
       "    <tr style=\"text-align: right;\">\n",
       "      <th></th>\n",
       "      <th>Dp_eva</th>\n",
       "      <th>dP_sink</th>\n",
       "      <th>p_eva</th>\n",
       "      <th>p_con</th>\n",
       "      <th>Q_dot_cool</th>\n",
       "      <th>Q_dot_heat</th>\n",
       "      <th>q_v_dh</th>\n",
       "      <th>T_con</th>\n",
       "      <th>T_eva</th>\n",
       "      <th>W_dot_tot</th>\n",
       "      <th>Unnamed: 10</th>\n",
       "    </tr>\n",
       "    <tr>\n",
       "      <th>Test</th>\n",
       "      <th></th>\n",
       "      <th></th>\n",
       "      <th></th>\n",
       "      <th></th>\n",
       "      <th></th>\n",
       "      <th></th>\n",
       "      <th></th>\n",
       "      <th></th>\n",
       "      <th></th>\n",
       "      <th></th>\n",
       "      <th></th>\n",
       "    </tr>\n",
       "  </thead>\n",
       "  <tbody>\n",
       "    <tr>\n",
       "      <th>268388-1</th>\n",
       "      <td>30.20</td>\n",
       "      <td>81.26</td>\n",
       "      <td>4.407</td>\n",
       "      <td>29.30</td>\n",
       "      <td>1145.0</td>\n",
       "      <td>1507.0</td>\n",
       "      <td>89.21</td>\n",
       "      <td>64.75</td>\n",
       "      <td>0.6864</td>\n",
       "      <td>370.4</td>\n",
       "      <td>NaN</td>\n",
       "    </tr>\n",
       "    <tr>\n",
       "      <th>268388-515648-Kondition 2</th>\n",
       "      <td>30.03</td>\n",
       "      <td>78.84</td>\n",
       "      <td>4.389</td>\n",
       "      <td>29.20</td>\n",
       "      <td>1126.0</td>\n",
       "      <td>1482.0</td>\n",
       "      <td>87.67</td>\n",
       "      <td>64.60</td>\n",
       "      <td>0.5747</td>\n",
       "      <td>364.2</td>\n",
       "      <td>NaN</td>\n",
       "    </tr>\n",
       "    <tr>\n",
       "      <th>268388-1_Kund Test - Test rapport</th>\n",
       "      <td>30.18</td>\n",
       "      <td>77.85</td>\n",
       "      <td>4.404</td>\n",
       "      <td>29.53</td>\n",
       "      <td>1170.0</td>\n",
       "      <td>1540.0</td>\n",
       "      <td>87.03</td>\n",
       "      <td>65.07</td>\n",
       "      <td>0.6677</td>\n",
       "      <td>379.9</td>\n",
       "      <td>NaN</td>\n",
       "    </tr>\n",
       "    <tr>\n",
       "      <th>268388-5-PRETEST - Test rapport</th>\n",
       "      <td>30.22</td>\n",
       "      <td>188.40</td>\n",
       "      <td>5.220</td>\n",
       "      <td>29.66</td>\n",
       "      <td>1258.0</td>\n",
       "      <td>1632.0</td>\n",
       "      <td>142.90</td>\n",
       "      <td>65.25</td>\n",
       "      <td>5.3250</td>\n",
       "      <td>376.7</td>\n",
       "      <td>NaN</td>\n",
       "    </tr>\n",
       "  </tbody>\n",
       "</table>\n",
       "</div>"
      ],
      "text/plain": [
       "                                   Dp_eva  dP_sink  p_eva  p_con  Q_dot_cool  \\\n",
       "Test                                                                           \n",
       "268388-1                            30.20    81.26  4.407  29.30      1145.0   \n",
       "268388-515648-Kondition 2           30.03    78.84  4.389  29.20      1126.0   \n",
       "268388-1_Kund Test - Test rapport   30.18    77.85  4.404  29.53      1170.0   \n",
       "268388-5-PRETEST - Test rapport     30.22   188.40  5.220  29.66      1258.0   \n",
       "\n",
       "                                   Q_dot_heat  q_v_dh  T_con   T_eva  \\\n",
       "Test                                                                   \n",
       "268388-1                               1507.0   89.21  64.75  0.6864   \n",
       "268388-515648-Kondition 2              1482.0   87.67  64.60  0.5747   \n",
       "268388-1_Kund Test - Test rapport      1540.0   87.03  65.07  0.6677   \n",
       "268388-5-PRETEST - Test rapport        1632.0  142.90  65.25  5.3250   \n",
       "\n",
       "                                   W_dot_tot  Unnamed: 10  \n",
       "Test                                                       \n",
       "268388-1                               370.4          NaN  \n",
       "268388-515648-Kondition 2              364.2          NaN  \n",
       "268388-1_Kund Test - Test rapport      379.9          NaN  \n",
       "268388-5-PRETEST - Test rapport        376.7          NaN  "
      ]
     },
     "execution_count": 7,
     "metadata": {},
     "output_type": "execute_result"
    }
   ],
   "source": [
    "df_pipes_models[0]"
   ]
  },
  {
   "cell_type": "code",
   "execution_count": 8,
   "metadata": {},
   "outputs": [
    {
     "data": {
      "text/html": [
       "<div>\n",
       "<style scoped>\n",
       "    .dataframe tbody tr th:only-of-type {\n",
       "        vertical-align: middle;\n",
       "    }\n",
       "\n",
       "    .dataframe tbody tr th {\n",
       "        vertical-align: top;\n",
       "    }\n",
       "\n",
       "    .dataframe thead th {\n",
       "        text-align: right;\n",
       "    }\n",
       "</style>\n",
       "<table border=\"1\" class=\"dataframe\">\n",
       "  <thead>\n",
       "    <tr style=\"text-align: right;\">\n",
       "      <th></th>\n",
       "      <th>p_con</th>\n",
       "      <th>p_eva</th>\n",
       "      <th>q_v_dh</th>\n",
       "      <th>Dp_eva</th>\n",
       "      <th>dP_sink</th>\n",
       "      <th>Q_dot_cool</th>\n",
       "      <th>Q_dot_heat</th>\n",
       "      <th>W_dot_tot</th>\n",
       "      <th>Unnamed: 8</th>\n",
       "    </tr>\n",
       "    <tr>\n",
       "      <th>Test</th>\n",
       "      <th></th>\n",
       "      <th></th>\n",
       "      <th></th>\n",
       "      <th></th>\n",
       "      <th></th>\n",
       "      <th></th>\n",
       "      <th></th>\n",
       "      <th></th>\n",
       "      <th></th>\n",
       "    </tr>\n",
       "  </thead>\n",
       "  <tbody>\n",
       "    <tr>\n",
       "      <th>268388-4_1</th>\n",
       "      <td>42.60</td>\n",
       "      <td>5.118</td>\n",
       "      <td>90.83</td>\n",
       "      <td>30.08</td>\n",
       "      <td>83.92</td>\n",
       "      <td>1198.0</td>\n",
       "      <td>1646.0</td>\n",
       "      <td>458.4</td>\n",
       "      <td>NaN</td>\n",
       "    </tr>\n",
       "    <tr>\n",
       "      <th>268388-4_2</th>\n",
       "      <td>43.12</td>\n",
       "      <td>5.142</td>\n",
       "      <td>91.82</td>\n",
       "      <td>30.51</td>\n",
       "      <td>85.54</td>\n",
       "      <td>1220.0</td>\n",
       "      <td>1675.0</td>\n",
       "      <td>467.2</td>\n",
       "      <td>NaN</td>\n",
       "    </tr>\n",
       "    <tr>\n",
       "      <th>268388_PreCustomer - Test rapport</th>\n",
       "      <td>41.28</td>\n",
       "      <td>5.181</td>\n",
       "      <td>98.31</td>\n",
       "      <td>30.82</td>\n",
       "      <td>96.36</td>\n",
       "      <td>1115.0</td>\n",
       "      <td>1539.0</td>\n",
       "      <td>435.0</td>\n",
       "      <td>NaN</td>\n",
       "    </tr>\n",
       "    <tr>\n",
       "      <th>268388_PreCustomer1-TEST 2 - Test rapport</th>\n",
       "      <td>41.38</td>\n",
       "      <td>5.186</td>\n",
       "      <td>80.81</td>\n",
       "      <td>30.25</td>\n",
       "      <td>68.48</td>\n",
       "      <td>1091.0</td>\n",
       "      <td>1495.0</td>\n",
       "      <td>411.7</td>\n",
       "      <td>NaN</td>\n",
       "    </tr>\n",
       "    <tr>\n",
       "      <th>268388_PreCustomer1-TEST 3 - Test rapport</th>\n",
       "      <td>42.69</td>\n",
       "      <td>5.136</td>\n",
       "      <td>85.47</td>\n",
       "      <td>28.74</td>\n",
       "      <td>75.49</td>\n",
       "      <td>1198.0</td>\n",
       "      <td>1642.0</td>\n",
       "      <td>454.7</td>\n",
       "      <td>NaN</td>\n",
       "    </tr>\n",
       "    <tr>\n",
       "      <th>268388-6-HPX Kondition 4 - Test rapport</th>\n",
       "      <td>42.69</td>\n",
       "      <td>5.070</td>\n",
       "      <td>90.36</td>\n",
       "      <td>30.94</td>\n",
       "      <td>83.17</td>\n",
       "      <td>1200.0</td>\n",
       "      <td>1650.0</td>\n",
       "      <td>461.3</td>\n",
       "      <td>NaN</td>\n",
       "    </tr>\n",
       "  </tbody>\n",
       "</table>\n",
       "</div>"
      ],
      "text/plain": [
       "                                           p_con  p_eva  q_v_dh  Dp_eva  \\\n",
       "Test                                                                      \n",
       "268388-4_1                                 42.60  5.118   90.83   30.08   \n",
       "268388-4_2                                 43.12  5.142   91.82   30.51   \n",
       "268388_PreCustomer - Test rapport          41.28  5.181   98.31   30.82   \n",
       "268388_PreCustomer1-TEST 2 - Test rapport  41.38  5.186   80.81   30.25   \n",
       "268388_PreCustomer1-TEST 3 - Test rapport  42.69  5.136   85.47   28.74   \n",
       "268388-6-HPX Kondition 4 - Test rapport    42.69  5.070   90.36   30.94   \n",
       "\n",
       "                                           dP_sink  Q_dot_cool  Q_dot_heat  \\\n",
       "Test                                                                         \n",
       "268388-4_1                                   83.92      1198.0      1646.0   \n",
       "268388-4_2                                   85.54      1220.0      1675.0   \n",
       "268388_PreCustomer - Test rapport            96.36      1115.0      1539.0   \n",
       "268388_PreCustomer1-TEST 2 - Test rapport    68.48      1091.0      1495.0   \n",
       "268388_PreCustomer1-TEST 3 - Test rapport    75.49      1198.0      1642.0   \n",
       "268388-6-HPX Kondition 4 - Test rapport      83.17      1200.0      1650.0   \n",
       "\n",
       "                                           W_dot_tot  Unnamed: 8  \n",
       "Test                                                              \n",
       "268388-4_1                                     458.4         NaN  \n",
       "268388-4_2                                     467.2         NaN  \n",
       "268388_PreCustomer - Test rapport              435.0         NaN  \n",
       "268388_PreCustomer1-TEST 2 - Test rapport      411.7         NaN  \n",
       "268388_PreCustomer1-TEST 3 - Test rapport      454.7         NaN  \n",
       "268388-6-HPX Kondition 4 - Test rapport        461.3         NaN  "
      ]
     },
     "execution_count": 8,
     "metadata": {},
     "output_type": "execute_result"
    }
   ],
   "source": [
    "df_pipes_models[1]"
   ]
  },
  {
   "cell_type": "code",
   "execution_count": 9,
   "metadata": {},
   "outputs": [
    {
     "data": {
      "text/plain": [
       "Index(['Dp_eva', 'dP_sink', 'p_eva', 'p_con', 'Q_dot_cool', 'Q_dot_heat',\n",
       "       'T_con', 'T_eva', 'W_dot_tot'],\n",
       "      dtype='object')"
      ]
     },
     "execution_count": 9,
     "metadata": {},
     "output_type": "execute_result"
    }
   ],
   "source": [
    "columns_to_check_1 = df_pipes_models[0].columns.intersection(df_pipes_measures[0].columns)\n",
    "columns_to_check_1"
   ]
  },
  {
   "cell_type": "code",
   "execution_count": 10,
   "metadata": {},
   "outputs": [
    {
     "data": {
      "text/plain": [
       "Index(['p_con', 'p_eva', 'Dp_eva', 'dP_sink', 'Q_dot_cool', 'Q_dot_heat',\n",
       "       'W_dot_tot'],\n",
       "      dtype='object')"
      ]
     },
     "execution_count": 10,
     "metadata": {},
     "output_type": "execute_result"
    }
   ],
   "source": [
    "columns_to_check_2 = df_pipes_models[1].columns.intersection(df_pipes_measures[1].columns)\n",
    "columns_to_check_2"
   ]
  },
  {
   "cell_type": "code",
   "execution_count": 11,
   "metadata": {},
   "outputs": [],
   "source": [
    "df_pipes_models[0] = df_pipes_models[0][columns_to_check_1]\n",
    "df_pipes_measures[0] = df_pipes_measures[0][columns_to_check_1]"
   ]
  },
  {
   "cell_type": "code",
   "execution_count": 12,
   "metadata": {},
   "outputs": [],
   "source": [
    "df_pipes_models[1] = df_pipes_models[1][columns_to_check_2]\n",
    "df_pipes_measures[1] = df_pipes_measures[1][columns_to_check_2]"
   ]
  },
  {
   "cell_type": "code",
   "execution_count": 13,
   "metadata": {},
   "outputs": [
    {
     "data": {
      "text/html": [
       "<div>\n",
       "<style scoped>\n",
       "    .dataframe tbody tr th:only-of-type {\n",
       "        vertical-align: middle;\n",
       "    }\n",
       "\n",
       "    .dataframe tbody tr th {\n",
       "        vertical-align: top;\n",
       "    }\n",
       "\n",
       "    .dataframe thead th {\n",
       "        text-align: right;\n",
       "    }\n",
       "</style>\n",
       "<table border=\"1\" class=\"dataframe\">\n",
       "  <thead>\n",
       "    <tr style=\"text-align: right;\">\n",
       "      <th></th>\n",
       "      <th>p_con</th>\n",
       "      <th>p_eva</th>\n",
       "      <th>Dp_eva</th>\n",
       "      <th>dP_sink</th>\n",
       "      <th>Q_dot_cool</th>\n",
       "      <th>Q_dot_heat</th>\n",
       "      <th>W_dot_tot</th>\n",
       "    </tr>\n",
       "    <tr>\n",
       "      <th>Test</th>\n",
       "      <th></th>\n",
       "      <th></th>\n",
       "      <th></th>\n",
       "      <th></th>\n",
       "      <th></th>\n",
       "      <th></th>\n",
       "      <th></th>\n",
       "    </tr>\n",
       "  </thead>\n",
       "  <tbody>\n",
       "    <tr>\n",
       "      <th>268388-4_1</th>\n",
       "      <td>42.60</td>\n",
       "      <td>5.118</td>\n",
       "      <td>30.08</td>\n",
       "      <td>83.92</td>\n",
       "      <td>1198.0</td>\n",
       "      <td>1646.0</td>\n",
       "      <td>458.4</td>\n",
       "    </tr>\n",
       "    <tr>\n",
       "      <th>268388-4_2</th>\n",
       "      <td>43.12</td>\n",
       "      <td>5.142</td>\n",
       "      <td>30.51</td>\n",
       "      <td>85.54</td>\n",
       "      <td>1220.0</td>\n",
       "      <td>1675.0</td>\n",
       "      <td>467.2</td>\n",
       "    </tr>\n",
       "    <tr>\n",
       "      <th>268388_PreCustomer - Test rapport</th>\n",
       "      <td>41.28</td>\n",
       "      <td>5.181</td>\n",
       "      <td>30.82</td>\n",
       "      <td>96.36</td>\n",
       "      <td>1115.0</td>\n",
       "      <td>1539.0</td>\n",
       "      <td>435.0</td>\n",
       "    </tr>\n",
       "    <tr>\n",
       "      <th>268388_PreCustomer1-TEST 2 - Test rapport</th>\n",
       "      <td>41.38</td>\n",
       "      <td>5.186</td>\n",
       "      <td>30.25</td>\n",
       "      <td>68.48</td>\n",
       "      <td>1091.0</td>\n",
       "      <td>1495.0</td>\n",
       "      <td>411.7</td>\n",
       "    </tr>\n",
       "    <tr>\n",
       "      <th>268388_PreCustomer1-TEST 3 - Test rapport</th>\n",
       "      <td>42.69</td>\n",
       "      <td>5.136</td>\n",
       "      <td>28.74</td>\n",
       "      <td>75.49</td>\n",
       "      <td>1198.0</td>\n",
       "      <td>1642.0</td>\n",
       "      <td>454.7</td>\n",
       "    </tr>\n",
       "    <tr>\n",
       "      <th>268388-6-HPX Kondition 4 - Test rapport</th>\n",
       "      <td>42.69</td>\n",
       "      <td>5.070</td>\n",
       "      <td>30.94</td>\n",
       "      <td>83.17</td>\n",
       "      <td>1200.0</td>\n",
       "      <td>1650.0</td>\n",
       "      <td>461.3</td>\n",
       "    </tr>\n",
       "  </tbody>\n",
       "</table>\n",
       "</div>"
      ],
      "text/plain": [
       "                                           p_con  p_eva  Dp_eva  dP_sink  \\\n",
       "Test                                                                       \n",
       "268388-4_1                                 42.60  5.118   30.08    83.92   \n",
       "268388-4_2                                 43.12  5.142   30.51    85.54   \n",
       "268388_PreCustomer - Test rapport          41.28  5.181   30.82    96.36   \n",
       "268388_PreCustomer1-TEST 2 - Test rapport  41.38  5.186   30.25    68.48   \n",
       "268388_PreCustomer1-TEST 3 - Test rapport  42.69  5.136   28.74    75.49   \n",
       "268388-6-HPX Kondition 4 - Test rapport    42.69  5.070   30.94    83.17   \n",
       "\n",
       "                                           Q_dot_cool  Q_dot_heat  W_dot_tot  \n",
       "Test                                                                          \n",
       "268388-4_1                                     1198.0      1646.0      458.4  \n",
       "268388-4_2                                     1220.0      1675.0      467.2  \n",
       "268388_PreCustomer - Test rapport              1115.0      1539.0      435.0  \n",
       "268388_PreCustomer1-TEST 2 - Test rapport      1091.0      1495.0      411.7  \n",
       "268388_PreCustomer1-TEST 3 - Test rapport      1198.0      1642.0      454.7  \n",
       "268388-6-HPX Kondition 4 - Test rapport        1200.0      1650.0      461.3  "
      ]
     },
     "execution_count": 13,
     "metadata": {},
     "output_type": "execute_result"
    }
   ],
   "source": [
    "df_pipes_models[1]"
   ]
  },
  {
   "cell_type": "markdown",
   "metadata": {},
   "source": [
    "## Charts of the distribution of the data"
   ]
  },
  {
   "cell_type": "code",
   "execution_count": 14,
   "metadata": {},
   "outputs": [],
   "source": [
    "import plotly.express as px\n",
    "import plotly.graph_objects as go\n",
    "def scatter_matrix(df):\n",
    "    df[\"index\"] = df.index\n",
    "    chart_data = go.FigureWidget(px.scatter_matrix(df, df.columns.difference([\"index\"]), color= \"index\", height = 1000, width = 1300))\n",
    "    df.drop(\"index\", axis = 1, inplace = True)\n",
    "    return chart_data"
   ]
  },
  {
   "cell_type": "code",
   "execution_count": 15,
   "metadata": {},
   "outputs": [],
   "source": [
    "pipe_number = 1"
   ]
  },
  {
   "cell_type": "code",
   "execution_count": 16,
   "metadata": {},
   "outputs": [
    {
     "name": "stderr",
     "output_type": "stream",
     "text": [
      "/home/montoya/anaconda3/envs/python36/lib/python3.7/site-packages/ipykernel_launcher.py:4: SettingWithCopyWarning:\n",
      "\n",
      "\n",
      "A value is trying to be set on a copy of a slice from a DataFrame.\n",
      "Try using .loc[row_indexer,col_indexer] = value instead\n",
      "\n",
      "See the caveats in the documentation: http://pandas.pydata.org/pandas-docs/stable/indexing.html#indexing-view-versus-copy\n",
      "\n",
      "/home/montoya/anaconda3/envs/python36/lib/python3.7/site-packages/pandas/core/frame.py:3940: SettingWithCopyWarning:\n",
      "\n",
      "\n",
      "A value is trying to be set on a copy of a slice from a DataFrame\n",
      "\n",
      "See the caveats in the documentation: http://pandas.pydata.org/pandas-docs/stable/indexing.html#indexing-view-versus-copy\n",
      "\n"
     ]
    },
    {
     "data": {
      "application/vnd.jupyter.widget-view+json": {
       "model_id": "50e3955d65e14fa4812c5473370060c0",
       "version_major": 2,
       "version_minor": 0
      },
      "text/plain": [
       "FigureWidget({\n",
       "    'data': [{'dimensions': [{'axis': {'matches': True}, 'label': 'Dp_eva', 'values': array([30…"
      ]
     },
     "metadata": {},
     "output_type": "display_data"
    }
   ],
   "source": [
    "scatter_matrix(df_pipes_models[pipe_number])"
   ]
  },
  {
   "cell_type": "code",
   "execution_count": 17,
   "metadata": {},
   "outputs": [
    {
     "name": "stderr",
     "output_type": "stream",
     "text": [
      "/home/montoya/anaconda3/envs/python36/lib/python3.7/site-packages/ipykernel_launcher.py:4: SettingWithCopyWarning:\n",
      "\n",
      "\n",
      "A value is trying to be set on a copy of a slice from a DataFrame.\n",
      "Try using .loc[row_indexer,col_indexer] = value instead\n",
      "\n",
      "See the caveats in the documentation: http://pandas.pydata.org/pandas-docs/stable/indexing.html#indexing-view-versus-copy\n",
      "\n"
     ]
    },
    {
     "data": {
      "application/vnd.jupyter.widget-view+json": {
       "model_id": "bbb17685f9264f469d9fe5409ca0f095",
       "version_major": 2,
       "version_minor": 0
      },
      "text/plain": [
       "FigureWidget({\n",
       "    'data': [{'dimensions': [{'axis': {'matches': True}, 'label': 'Dp_eva', 'values': array([35…"
      ]
     },
     "metadata": {},
     "output_type": "display_data"
    }
   ],
   "source": [
    "scatter_matrix(df_pipes_measures[pipe_number])"
   ]
  },
  {
   "cell_type": "code",
   "execution_count": 42,
   "metadata": {},
   "outputs": [],
   "source": [
    "from sklearn.metrics import r2_score, mean_squared_error\n",
    "\n",
    "\n",
    "def get_regression_line_trace(x,y):\n",
    "    min_val, max_val = min(x.min(),y.min()), max(x.max(), y.max())\n",
    "    line = go.Scatter(x = [min_val, max_val], y = [min_val, max_val], mode = \"lines\", marker = dict(color = \"black\"), name = \"Perfect match\", showlegend = True)\n",
    "    return line \n",
    "\n",
    "def get_regression_line_trace_boundaries(x,y, tol = 0.):\n",
    "    min_val, max_val = min(x.min(),y.min()), max(x.max(), y.max())\n",
    "    line1 = go.Scatter(x = [min_val, max_val], y = [min_val + min_val*tol, max_val+max_val*tol], mode = \"lines\", marker = dict(color = \"black\"),line = dict(dash = \"dash\"), name = \"Tolerance range\", showlegend = True)\n",
    "    line2 = go.Scatter(x = [min_val, max_val], y = [min_val - min_val*tol, max_val-max_val*tol], mode = \"lines\", marker = dict(color = \"black\"),line = dict(dash = \"dash\"), name = \"Tolerance range\", showlegend = True)\n",
    "    \n",
    "    return [line1, line2] \n",
    "\n",
    "\n",
    "def plot_control_card(x,y): \n",
    "    tolerances = {\"p_eva\":15, \"p_con\": 15, \"W_dot_tot\":5, \"Dp_eva\":15, \"V_dot_dh\":2, \"Q_dot_heat\":7,\"dP_sink\":15}\n",
    "    \n",
    "    diff = y - x\n",
    "    r2 = r2_score(x,y)\n",
    "    mse = mean_squared_error(x,y)\n",
    "    std = np.std(diff)\n",
    "    \n",
    "    \n",
    "    fig = go.FigureWidget()\n",
    "    fig.add_trace(go.Scatter(x = x, y = y, name = \"regression points\", mode = \"markers\"))\n",
    "    fig.add_trace(get_regression_line_trace(x,y))\n",
    "    \n",
    "    if x.name in list(tolerances.keys()):\n",
    "        tol = tolerances[x.name]/100\n",
    "        fig.add_traces(get_regression_line_trace_boundaries(x,y,tol))\n",
    "    \n",
    "    annotations = [dict(\n",
    "    x = np.min(x) + (np.max(x) - np.min(x))/2,\n",
    "    y = max(y.max(), x.max()),\n",
    "    text = \"r<sup>2</sup> = {:.2f} <br> RMSE:  {:.2f} \".format(r2, np.sqrt(mse)),\n",
    "        showarrow = False, font = dict(family = \"Courier New\", size = 18, color = \"black\"),\n",
    "        bordercolor = \"#c7c7c7\"\n",
    "    )]\n",
    "    \n",
    "    fig.update_layout(xaxis = dict(title = f\"Measured {x.name}\"), yaxis = dict(title = f\"Modeled {x.name}\"))\n",
    "    fig.update_layout(annotations = annotations, width = 800, height = 600)\n",
    "    return fig\n",
    "    "
   ]
  },
  {
   "cell_type": "code",
   "execution_count": 43,
   "metadata": {
    "scrolled": false
   },
   "outputs": [
    {
     "data": {
      "application/vnd.jupyter.widget-view+json": {
       "model_id": "c978019001084be185afcabdd366c90c",
       "version_major": 2,
       "version_minor": 0
      },
      "text/plain": [
       "FigureWidget({\n",
       "    'data': [{'mode': 'markers',\n",
       "              'name': 'regression points',\n",
       "              'type…"
      ]
     },
     "metadata": {},
     "output_type": "display_data"
    },
    {
     "data": {
      "application/vnd.jupyter.widget-view+json": {
       "model_id": "5f63d86e2d8042e5bcddffcf12438e1d",
       "version_major": 2,
       "version_minor": 0
      },
      "text/plain": [
       "FigureWidget({\n",
       "    'data': [{'mode': 'markers',\n",
       "              'name': 'regression points',\n",
       "              'type…"
      ]
     },
     "metadata": {},
     "output_type": "display_data"
    },
    {
     "data": {
      "application/vnd.jupyter.widget-view+json": {
       "model_id": "54bebc63a28b4433898a969afee53aad",
       "version_major": 2,
       "version_minor": 0
      },
      "text/plain": [
       "FigureWidget({\n",
       "    'data': [{'mode': 'markers',\n",
       "              'name': 'regression points',\n",
       "              'type…"
      ]
     },
     "metadata": {},
     "output_type": "display_data"
    }
   ],
   "source": [
    "columns_to_check = [columns_to_check_1, columns_to_check_2]\n",
    "\n",
    "subselection = [\"Q_dot_heat\", \"W_dot_tot\", \"dP_sink\"]\n",
    "# subselection = columns_to_check[pipe_number]\n",
    "for column in subselection:\n",
    "    display(plot_control_card(df_pipes_measures[pipe_number][column],df_pipes_models[pipe_number][column]))"
   ]
  },
  {
   "cell_type": "code",
   "execution_count": null,
   "metadata": {},
   "outputs": [],
   "source": []
  },
  {
   "cell_type": "code",
   "execution_count": null,
   "metadata": {},
   "outputs": [],
   "source": []
  }
 ],
 "metadata": {
  "kernelspec": {
   "display_name": "Python 3",
   "language": "python",
   "name": "python3"
  },
  "language_info": {
   "codemirror_mode": {
    "name": "ipython",
    "version": 3
   },
   "file_extension": ".py",
   "mimetype": "text/x-python",
   "name": "python",
   "nbconvert_exporter": "python",
   "pygments_lexer": "ipython3",
   "version": "3.7.4"
  }
 },
 "nbformat": 4,
 "nbformat_minor": 2
}
